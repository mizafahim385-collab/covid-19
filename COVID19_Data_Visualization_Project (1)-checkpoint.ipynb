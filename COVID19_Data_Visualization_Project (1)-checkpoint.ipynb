{
 "cells": [
  {
   "cell_type": "markdown",
   "id": "2636eefa",
   "metadata": {},
   "source": [
    "# 📊 COVID-19 Data Visualization Project\n",
    "This notebook demonstrates data visualization using a COVID-19 dataset.\n",
    "We will analyze and visualize cases and deaths for different countries."
   ]
  },
  {
   "cell_type": "code",
   "execution_count": null,
   "id": "170e738b",
   "metadata": {},
   "outputs": [],
   "source": [
    "import pandas as pd\n",
    "import matplotlib.pyplot as plt\n",
    "import seaborn as sns"
   ]
  },
  {
   "cell_type": "code",
   "execution_count": null,
   "id": "61b24a54",
   "metadata": {},
   "outputs": [],
   "source": [
    "# Sample COVID-19 dataset (mock data)\n",
    "data = {\n",
    "    'location': ['Bangladesh'] * 5 + ['India'] * 5 + ['USA'] * 5,\n",
    "    'date': pd.date_range('2020-03-01', periods=5).tolist() * 3,\n",
    "    'total_cases': [1, 3, 10, 30, 50, 10, 50, 200, 500, 1000, 50, 200, 1000, 3000, 6000],\n",
    "    'total_deaths': [0, 0, 1, 2, 5, 0, 1, 5, 10, 20, 0, 5, 20, 50, 100],\n",
    "    'population': [165000000]*5 + [1380000000]*5 + [331000000]*5\n",
    "}\n",
    "df = pd.DataFrame(data)\n",
    "df.head()"
   ]
  },
  {
   "cell_type": "code",
   "execution_count": null,
   "id": "d3f51cac",
   "metadata": {},
   "outputs": [],
   "source": [
    "# Filter Bangladesh data\n",
    "bd = df[df['location'] == 'Bangladesh']\n",
    "\n",
    "# Visualization 1: Total cases over time (Bangladesh)\n",
    "plt.figure(figsize=(8,5))\n",
    "plt.plot(bd['date'], bd['total_cases'], marker='o', color='blue')\n",
    "plt.title('COVID-19 Total Cases in Bangladesh')\n",
    "plt.xlabel('Date')\n",
    "plt.ylabel('Total Cases')\n",
    "plt.xticks(rotation=45)\n",
    "plt.tight_layout()\n",
    "plt.show()"
   ]
  },
  {
   "cell_type": "code",
   "execution_count": null,
   "id": "12d9d037",
   "metadata": {},
   "outputs": [],
   "source": [
    "# Visualization 2: Compare total deaths on latest date\n",
    "latest = df[df['date'] == df['date'].max()]\n",
    "top = latest.sort_values('total_deaths', ascending=False)\n",
    "\n",
    "plt.figure(figsize=(7,5))\n",
    "sns.barplot(data=top, x='location', y='total_deaths', palette='Reds')\n",
    "plt.title('COVID-19 Deaths (Latest Date)')\n",
    "plt.ylabel('Total Deaths')\n",
    "plt.tight_layout()\n",
    "plt.show()"
   ]
  }
 ],
 "metadata": {},
 "nbformat": 4,
 "nbformat_minor": 5
}
